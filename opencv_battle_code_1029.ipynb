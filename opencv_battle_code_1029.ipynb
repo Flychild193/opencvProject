{
 "cells": [
  {
   "cell_type": "code",
   "execution_count": 1,
   "metadata": {},
   "outputs": [],
   "source": [
    "import PIL\n",
    "from PIL import Image\n",
    "import pytesseract\n",
    "import keyboard\n",
    "import mss\n",
    "import cv2 as cv\n",
    "import numpy as np\n",
    "from time import time, sleep\n",
    "from pynput.mouse import Button, Controller\n",
    "from pynput import mouse, keyboard\n",
    "import random\n",
    "import pyautogui\n",
    "import pydirectinput\n",
    "from  matplotlib import pyplot as plt\n",
    "import myutils \n",
    "import imutils\n",
    "import cv2\n",
    "from AXIE_tool import Tools , Play\n",
    "import time\n",
    "import threading"
   ]
  },
  {
   "cell_type": "code",
   "execution_count": 2,
   "metadata": {},
   "outputs": [],
   "source": [
    "#图片区\n",
    "right_arrow = cv2.imread('right_arrow.png', cv2.IMREAD_UNCHANGED)\n",
    "left_arrow = cv2.imread('left_arrow.png', cv2.IMREAD_UNCHANGED)\n",
    "TEAMS_icon = cv2.imread('TEAMS_icon.png', cv2.IMREAD_UNCHANGED)\n",
    "TEAMS_square_icon = cv2.imread('TEAMS_square_icon.png', cv2.IMREAD_UNCHANGED)\n",
    "INVENTORY_icon = cv2.imread('INVENTORY_icon.png', cv2.IMREAD_UNCHANGED)\n",
    "START_icon = cv2.imread('START_icon.png', cv2.IMREAD_UNCHANGED)\n",
    "EndTurn_icon = cv2.imread('EndTurn_icon.png', cv2.IMREAD_UNCHANGED)\n",
    "ARENA_icon = cv2.imread('ARENA_icon.png', cv2.IMREAD_UNCHANGED)\n",
    "ADVENTURE_mistouch_OK_icon = cv2.imread('ADVENTURE_mistouch_OK_icon.png', cv2.IMREAD_UNCHANGED)\n",
    "back_arrow_icon = cv2.imread('back_arrow_icon.png', cv2.IMREAD_UNCHANGED)\n",
    "AXIES_icon = cv2.imread('AXIES_icon.png', cv2.IMREAD_UNCHANGED)\n",
    "ADVENTURE_icon = cv2.imread('ADVENTURE_icon.png', cv2.IMREAD_UNCHANGED)\n",
    "card_rank_ball_1= cv2.imread('card_rank_ball_1.png', cv2.IMREAD_UNCHANGED)\n",
    "guidepost= cv2.imread('guidepost.png', cv2.IMREAD_UNCHANGED)\n",
    "gear=cv2.imread('gear.png', cv2.IMREAD_UNCHANGED)\n",
    "Round=cv2.imread('Round.png', cv2.IMREAD_UNCHANGED)\n",
    "victory_icon=cv2.imread('victory_icon.png', cv2.IMREAD_UNCHANGED)\n",
    "DEFEATED_icon=cv2.imread('DEFEATED_icon.png', cv2.IMREAD_UNCHANGED)\n",
    "too_early_event=cv2.imread('too_early_event.png', cv2.IMREAD_UNCHANGED)\n",
    "Request_timeout=cv2.imread('Request_timeout.png', cv2.IMREAD_UNCHANGED)\n",
    "Request_timeout_OK_button=cv2.imread('Request_timeout_OK_button.png', cv2.IMREAD_UNCHANGED)\n",
    "\n",
    "energy_0 = cv2.imread('energy_0.png', cv2.IMREAD_UNCHANGED)\n",
    "energy_1 = cv2.imread('energy_1.png', cv2.IMREAD_UNCHANGED)\n",
    "energy_2 = cv2.imread('energy_2.png', cv2.IMREAD_UNCHANGED)\n",
    "energy_3 = cv2.imread('energy_3.png', cv2.IMREAD_UNCHANGED)\n",
    "energy_4 = cv2.imread('energy_4.png', cv2.IMREAD_UNCHANGED)\n",
    "energy_5 = cv2.imread('energy_5.png', cv2.IMREAD_UNCHANGED)\n",
    "energy_6 = cv2.imread('energy_6.png', cv2.IMREAD_UNCHANGED)\n",
    "energy_7 = cv2.imread('energy_7.png', cv2.IMREAD_UNCHANGED)\n",
    "energy_8 = cv2.imread('energy_8.png', cv2.IMREAD_UNCHANGED)\n",
    "energy_9 = cv2.imread('energy_9.png', cv2.IMREAD_UNCHANGED)\n",
    "energy_10 = cv2.imread('energy_10.png', cv2.IMREAD_UNCHANGED)\n",
    "\n",
    "energy_list=[energy_0,energy_1,energy_2,energy_3,energy_4,energy_5,energy_6,energy_7,energy_8,energy_9]"
   ]
  },
  {
   "cell_type": "code",
   "execution_count": null,
   "metadata": {
    "scrolled": true
   },
   "outputs": [
    {
     "name": "stdout",
     "output_type": "stream",
     "text": [
      "Now in battle\n",
      "Now in battle\n",
      "Now in battle\n",
      "Now in battle\n",
      "Now in battle\n",
      "Now in battle\n",
      "Now in battle\n",
      "Now in battle\n",
      "Now in battle\n",
      "Now in battle\n",
      "Now in battle\n",
      "Now in battle\n",
      "Now in battle\n",
      "victory\n",
      "Now in battle\n",
      "Now in battle\n",
      "Now in battle\n",
      "Now in battle\n"
     ]
    }
   ],
   "source": [
    "player = Play()\n",
    "player_thread = threading.Thread(target=player.travel)\n",
    "player_thread.start()\n",
    "\n",
    "\n",
    "#现在是战斗画面\n",
    "while True:\n",
    "    #endturn的icon在不在\n",
    "    EndTurn_icon_coordinate=Tools.find_one_item_on_screen(EndTurn_icon)\n",
    "  #  Endturn_icon_exist=Tools.item_if_exist(EndTurn_icon,1655, 720, 240, 85)\n",
    "    if len(EndTurn_icon_coordinate)==1:\n",
    "       # if Endturn_icon_exist[0]['exist']:  #只有找到了才会往下走\n",
    "        #找所有卡牌位置      \n",
    "        all_cards_coordination=Tools.find_same_items_on_screen(card_rank_ball_1)\n",
    "        #随机选\n",
    "        random_cards_orders=Tools.choose_card_at_random()      \n",
    "                \n",
    "        #選擇要打出的牌\n",
    "        for i in random_cards_orders:\n",
    "            \n",
    "            time.sleep(0.5)\n",
    "            pydirectinput.moveTo(all_cards_coordination[i]['left']+all_cards_coordination[i]['width'], all_cards_coordination[i]['top']+all_cards_coordination[i]['height']) #卡牌位置上再微調些\n",
    "            pydirectinput.mouseDown()\n",
    "            time.sleep(0.2)\n",
    "            pydirectinput.mouseUp()\n",
    "        #牌打出去,按下EnrTurn\n",
    "        #先找出EndTurn的位置\n",
    "        EndTurn_icon_coordinates=Tools.find_one_item_on_screen(EndTurn_icon)\n",
    "        w_E = EndTurn_icon.shape[1]\n",
    "        h_E = EndTurn_icon.shape[0] \n",
    "        pydirectinput.moveTo(EndTurn_icon_coordinates[0]['left']+int(w_E/2), EndTurn_icon_coordinates[0]['top']+int(h_E/2)) #卡牌位置上再微調些\n",
    "        pydirectinput.mouseDown()\n",
    "        time.sleep(0.2)\n",
    "        pydirectinput.mouseUp()\n",
    "\n",
    "        time.sleep(10)#打了牌,大概10秒\n",
    "    time.sleep(2)"
   ]
  },
  {
   "cell_type": "code",
   "execution_count": 52,
   "metadata": {},
   "outputs": [
    {
     "data": {
      "text/plain": [
       "'8}'"
      ]
     },
     "execution_count": 52,
     "metadata": {},
     "output_type": "execute_result"
    }
   ],
   "source": [
    "#整体screen shot\n",
    "stc = mss.mss()\n",
    "#找出位置的screen shot\n",
    "scr = stc.grab({'left': 60,'top': 845,'width': 28,'height': 32})\n",
    "img = np.array(scr)\n",
    "#存到本地\n",
    "a=cv2.imwrite('screenshotfortransfer_number.jpg', img)\n",
    "\n",
    "#在用PIL打开\n",
    "img = Image.open('screenshotfortransfer_number.jpg') \n",
    "# 模式L”为灰色图像，它的每个像素用8个bit表示，0表示黑，255表示白，其他数字表示不同的灰度。\n",
    "Img = img.convert('L')\n",
    "\n",
    "# 自定义灰度界限，大于这个值为黑色，小于这个值为白色\n",
    "threshold = 100\n",
    "\n",
    "table = []\n",
    "for i in range(256):\n",
    "    if i < threshold:\n",
    "        table.append(0)\n",
    "    else:\n",
    "        table.append(1)\n",
    "\n",
    "# 图片二值化\n",
    "photo = Img.point(table, '1')\n",
    "resized_image = photo.resize((100, 100), Image.ANTIALIAS)\n",
    "# 将图片存在本地\n",
    "resized_image.save(\"test_number.jpg\")\n",
    "\n",
    "#文字识别\n",
    "path_tess = r'C:\\Program Files\\Tesseract-OCR\\tesseract.exe'\n",
    "pytesseract.pytesseract.tesseract_cmd = path_tess\n",
    "text = pytesseract.image_to_string(resized_image, config='--psm 7 ').strip()\n",
    "text"
   ]
  }
 ],
 "metadata": {
  "kernelspec": {
   "display_name": "Python 3",
   "language": "python",
   "name": "python3"
  },
  "language_info": {
   "codemirror_mode": {
    "name": "ipython",
    "version": 3
   },
   "file_extension": ".py",
   "mimetype": "text/x-python",
   "name": "python",
   "nbconvert_exporter": "python",
   "pygments_lexer": "ipython3",
   "version": "3.8.5"
  }
 },
 "nbformat": 4,
 "nbformat_minor": 4
}
